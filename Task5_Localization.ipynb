{
 "cells": [
  {
   "cell_type": "code",
   "execution_count": 1,
   "metadata": {},
   "outputs": [],
   "source": [
    "import numpy as np\n",
    "import pandas as pd \n",
    "import matplotlib\n",
    "import matplotlib.pyplot as plt\n",
    "\n",
    "fig_size = (8, 6)\n",
    "font_size = 14"
   ]
  },
  {
   "source": [],
   "cell_type": "markdown",
   "metadata": {}
  },
  {
   "cell_type": "markdown",
   "metadata": {},
   "source": [
    "## Task 5 Localization\n",
    "\n",
    "Codes related to CSV file in CameraModule.py\n",
    "\n",
    "The columns are: time, number of QR code, (x, y, w, h), d_i from equation (4), phi_i from equation (5)\n",
    "\n",
    "We need to change PERCEIVED_FOCAL_LENGTH"
   ]
  },
  {
   "cell_type": "code",
   "execution_count": null,
   "metadata": {},
   "outputs": [],
   "source": [
    "PERCEIVED_FOCAL_LENGTH = 6200/QRCODE_SIDE_LENGTH #pixel\n",
    "perceived_distance = QRCODE_SIDE_LENGTH*PERCEIVED_FOCAL_LENGTH/h #<-- height is more robust, given in cm\n",
    "perceived_direction = np.arctan2(c_x, PERCEIVED_FOCAL_LENGTH) * RAD_TO_DEG#<-- given in degree\n",
    "csv.write(\"{},{},{},{},{},{},{},{}\\n\".format(timestamp,barcodeData,c_x,c_y,w,h,perceived_distance,perceived_direction))"
   ]
  },
  {
   "cell_type": "code",
   "execution_count": 27,
   "metadata": {},
   "outputs": [],
   "source": [
    "file_path = \"Dataset/data/task5/camera_localization_task5.csv\"\n",
    "col_names = ['time_stamp', 'num_QR', 'cx', 'cy', 'width', 'height', 'dist', 'direction']\n",
    "data = pd.read_csv(file_path, names=col_names)\n",
    "data[\"time_stamp\"] = (data[\"time_stamp\"] - data[\"time_stamp\"][0])/1000 # get time in seconds"
   ]
  },
  {
   "cell_type": "markdown",
   "metadata": {},
   "source": [
    "### Task 5a\n",
    "Describe the relation of these coordinates in your report; see Figure 6 as a reference. \n",
    "\n",
    "Does this mean to write euqation (6) to (11) again?\n",
    "\n",
    "What is the minimum number of different QR-codes that are needed to estimate the position and attitude of the robot in global coordinate?\n",
    "\n",
    "2"
   ]
  },
  {
   "cell_type": "code",
   "execution_count": 28,
   "metadata": {},
   "outputs": [],
   "source": []
  },
  {
   "cell_type": "code",
   "execution_count": 36,
   "metadata": {},
   "outputs": [
    {
     "output_type": "stream",
     "name": "stdout",
     "text": [
      "6 QR codes detected at time 0.000000s\n   time_stamp  num_QR   cx  cy  width  height       dist  direction\n0         0.0      31 -135  88     72      71  87.323944 -14.057986\n1         0.0      27  -63  89     70      69  89.855072  -6.665062\n2         0.0      33 -279  89     73      70  88.571429 -27.361565\n3         0.0      26    9  88     70      69  89.855072   0.956381\n4         0.0      20  231  87     78      72  86.111111  23.193571\n5         0.0      32 -208  89     73      69  89.855072 -21.096936\n"
     ]
    }
   ],
   "source": [
    "# put the detection results at the same time into the same group\n",
    "all_detections = data.groupby(by=[\"time_stamp\"])\n",
    "# iterate over the detection results \n",
    "for time_stamp, detection in all_detections:\n",
    "    print(\"{} QR codes detected at time {:3f}s\".format(detection.shape[0], detection[\"time_stamp\"].mean()))\n",
    "    print(detection)\n",
    "    break # comment to see all groups"
   ]
  },
  {
   "cell_type": "code",
   "execution_count": 35,
   "metadata": {},
   "outputs": [
    {
     "output_type": "execute_result",
     "data": {
      "text/plain": [
       "array([6, 8, 8, 8, 8, 6, 7, 8, 7, 7, 7, 6, 8, 8, 8, 8, 8, 8, 7, 7, 8, 8,\n",
       "       7, 8, 8, 8, 7, 8, 8, 7, 8, 8, 7, 8, 8, 8, 8, 8, 8, 8, 8, 8, 8, 8,\n",
       "       8, 8, 8, 7, 8, 8, 8, 8, 8, 8, 8, 8, 8, 8, 8, 8, 8, 8, 8, 8, 8, 8,\n",
       "       8, 8, 8, 8, 8, 8, 7, 8, 8, 8, 8, 8, 8, 8, 8, 8, 8, 8, 8, 8, 7, 8,\n",
       "       8, 8, 8, 7, 8, 8, 8, 8, 8, 8, 8, 8, 8, 8, 8, 8, 8, 8, 7, 8, 8, 8,\n",
       "       8, 7, 8, 8, 8, 7, 8, 8, 7, 8, 8, 8, 8, 8, 7, 7, 8, 8, 8, 8, 8, 8,\n",
       "       8, 7, 8, 7, 8, 8, 7, 6, 7, 8, 7, 7, 8, 8, 7, 8, 8, 8, 7, 7, 7, 7,\n",
       "       7, 8, 8, 7, 8, 7, 8, 8, 7, 7, 8, 7, 7, 7, 7, 7, 8, 7, 7, 7, 8, 7,\n",
       "       7, 7, 7, 7, 8, 7, 7, 8, 8, 7, 7, 8, 8, 8, 7, 8, 7, 8, 8, 8, 8, 7,\n",
       "       8, 8, 8, 8, 6, 8, 8, 8, 7, 8, 8, 8, 8, 8, 8, 8, 8, 8, 8, 8, 8, 7,\n",
       "       8, 8, 8, 8, 7, 7, 8, 8, 8, 8, 7, 8, 8, 8, 8, 7, 7, 8, 8, 7, 8, 8,\n",
       "       8, 7, 8, 6, 8, 7, 6, 7, 8, 7, 8, 8, 5, 7, 5, 8, 8, 8, 8, 8, 8, 8,\n",
       "       8, 8, 8, 8, 8, 6, 8, 8, 8, 8, 8, 8, 8, 8, 6, 8, 8, 8, 8, 8, 7, 8,\n",
       "       8, 8, 8, 8, 7, 8, 8, 8, 8, 7, 8, 8, 8, 7, 8, 8, 8, 8, 8, 8, 8, 7,\n",
       "       8, 8, 7, 8, 8, 8, 7], dtype=int64)"
      ]
     },
     "metadata": {},
     "execution_count": 35
    }
   ],
   "source": [
    "# how many QR codes are detected at each time stamp\n",
    "all_detections.count()[\"num_QR\"].values                    "
   ]
  },
  {
   "cell_type": "code",
   "execution_count": null,
   "metadata": {},
   "outputs": [],
   "source": []
  }
 ],
 "metadata": {
  "kernelspec": {
   "display_name": "Python 3",
   "language": "python",
   "name": "python3"
  },
  "language_info": {
   "codemirror_mode": {
    "name": "ipython",
    "version": 3
   },
   "file_extension": ".py",
   "mimetype": "text/x-python",
   "name": "python",
   "nbconvert_exporter": "python",
   "pygments_lexer": "ipython3",
   "version": "3.7.9-final"
  }
 },
 "nbformat": 4,
 "nbformat_minor": 4
}