{
 "metadata": {
  "language_info": {
   "codemirror_mode": {
    "name": "ipython",
    "version": 3
   },
   "file_extension": ".py",
   "mimetype": "text/x-python",
   "name": "python",
   "nbconvert_exporter": "python",
   "pygments_lexer": "ipython3",
   "version": 3
  },
  "orig_nbformat": 2
 },
 "nbformat": 4,
 "nbformat_minor": 2,
 "cells": [
  {
   "source": [
    "### Codes related to CSV file in CameraModule.py\n",
    "\n",
    "The columns are: time, number of QR code, (x, y, w, h), d_i from equation (4), phi_i from equation (5)\n",
    "\n",
    "We need to change PERCEIVED_FOCAL_LENGTH"
   ],
   "cell_type": "markdown",
   "metadata": {}
  },
  {
   "source": [
    "PERCEIVED_FOCAL_LENGTH = 6200/QRCODE_SIDE_LENGTH #pixel\n",
    "perceived_distance = QRCODE_SIDE_LENGTH*PERCEIVED_FOCAL_LENGTH/h #<-- height is more robust, given in cm\n",
    "perceived_direction = np.arctan2(c_x,PERCEIVED_FOCAL_LENGTH) * RAD_TO_DEG#<-- given in degree\n",
    "csv.write(\"{},{},{},{},{},{},{},{}\\n\".format(timestamp,barcodeData,c_x,c_y,w,h,perceived_distance,perceived_direction))"
   ],
   "cell_type": "code",
   "metadata": {},
   "execution_count": null,
   "outputs": []
  },
  {
   "source": [
    "Those with same timestamp "
   ],
   "cell_type": "markdown",
   "metadata": {}
  },
  {
   "source": [
    "\n",
    "1603871164.2880564,31,-135,88,72,71,87.32394366197184,-14.05798553291573\n",
    "1603871164.2880564,27,-63,89,70,69,89.85507246376812,-6.665061502275082\n",
    "1603871164.2880564,33,-279,89,73,70,88.57142857142858,-27.361564820270797\n",
    "1603871164.2880564,26,9,88,70,69,89.85507246376812,0.9563810345917811\n",
    "1603871164.2880564,20,231,87,78,72,86.11111111111113,23.19357136790705\n",
    "1603871164.2880564,32,-208,89,73,69,89.85507246376812,-21.096936185976894"
   ],
   "cell_type": "code",
   "metadata": {},
   "execution_count": null,
   "outputs": []
  },
  {
   "source": [
    "### Task 5a\n",
    "Describe the relation of these coordinates in your report; see Figure 6 as a reference. \n",
    "\n",
    "Does this mean to write euqation (6) to (11) again?\n",
    "\n",
    "What is the minimum number of different QR-codes that are needed to estimate the position and attitude of the robot in global coordinate?\n",
    "\n",
    "2"
   ],
   "cell_type": "markdown",
   "metadata": {}
  }
 ]
}